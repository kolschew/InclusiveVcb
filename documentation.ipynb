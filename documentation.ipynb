{
 "cells": [
  {
   "cell_type": "code",
   "execution_count": 1,
   "id": "bcba0e96",
   "metadata": {},
   "outputs": [],
   "source": [
    "import numpy as np"
   ]
  },
  {
   "cell_type": "markdown",
   "id": "401b4e29",
   "metadata": {},
   "source": [
    "First import the theoretical prediction for inclusive Vcb that you want to use. Choices are: <br>\n",
    "a) Normalized or centralized moments <br>\n",
    "b) Charm mass in the MS-bar or the kinetic mass scheme\n",
    "\n",
    "In this notebook we demonstrate the moments in the MS-bar scheme."
   ]
  },
  {
   "cell_type": "code",
   "execution_count": 2,
   "id": "bf34b7b5",
   "metadata": {},
   "outputs": [],
   "source": [
    "from InclusiveVcb import NormalizedMomentsMS, CentralizedMomentsMS"
   ]
  },
  {
   "cell_type": "markdown",
   "id": "58e680bd",
   "metadata": {},
   "source": [
    "Create instances of the theoretical prediction."
   ]
  },
  {
   "cell_type": "code",
   "execution_count": 3,
   "id": "3fa91077",
   "metadata": {},
   "outputs": [],
   "source": [
    "norm = NormalizedMomentsMS()\n",
    "cent = CentralizedMomentsMS()"
   ]
  },
  {
   "cell_type": "markdown",
   "id": "2b876a70",
   "metadata": {},
   "source": [
    "Each instance contains the same methods and takes the same parameters as input - they are contained in .data of the instance. For reference see the doc."
   ]
  },
  {
   "cell_type": "code",
   "execution_count": 4,
   "id": "484977f8",
   "metadata": {},
   "outputs": [
    {
     "name": "stdout",
     "output_type": "stream",
     "text": [
      "Total Rate and first four normalized q2-moments in the kinetic scheme\n",
      "    for the bottom quark and the MS-bar scheme for the charm quark mass.\n",
      "\n",
      "    Attributes\n",
      "    ----------\n",
      "    mus : float\n",
      "        Scale for the strong coupling a_s (default is 4.546)\n",
      "    mu0 : float\n",
      "        Scale for the charm quark mass (default is 2)\n",
      "    mcMS : float\n",
      "        Mass of the charm quark in the MS-bar scheme (default is 1.093 for mu0=2)\n",
      "    mbkin : float\n",
      "        Mass of the bottom quark in the kinetic scheme (default is 4.546)\n",
      "\n",
      "    Methods\n",
      "    -------\n",
      "    data : None\n",
      "        Holds all parameters for inclusive Vcb - see its own doc.\n",
      "    total_rate : (Vcb, mbkin, mcMS, muG, sB, rE, sqB, sE, rG, rhoD, mupi)\n",
      "        Total rate up to a_s^3 and 1/mb^4\n",
      "    q2_moment_i : (q_cut, mbkin, mcMS, muG, sB, rE, sqB, sE, rG, rhoD, mupi)\n",
      "        The i-th q2-moment up to a_s and 1/mb^4. First argument must be provided as np.array.\n",
      "    covariance_matrix : (cuts, shifts, multi=1, decorr=None)\n",
      "        Covariance matrix of the rate and moments for shifts in the given parameters.\n",
      "    \n"
     ]
    }
   ],
   "source": [
    "print(norm.__doc__)"
   ]
  },
  {
   "cell_type": "markdown",
   "id": "76912218",
   "metadata": {},
   "source": [
    "If desired you could specify a different scale for the strong coupling. It is automatically run to the scale provided."
   ]
  },
  {
   "cell_type": "code",
   "execution_count": 5,
   "id": "a9096992",
   "metadata": {},
   "outputs": [
    {
     "name": "stdout",
     "output_type": "stream",
     "text": [
      "0.06952577501550422\n",
      "0.08057073560277814\n"
     ]
    }
   ],
   "source": [
    "print(norm.data.api4)\n",
    "print(NormalizedMomentsMS(mus=3).data.api4)"
   ]
  },
  {
   "cell_type": "markdown",
   "id": "6db3ba78",
   "metadata": {},
   "source": [
    "You can access all parameters via the method data. We provide a set of default HQE parameters (you could also change these at instatiation, however that is only necessary if you want to use a different default input vector for convenience - see below)."
   ]
  },
  {
   "cell_type": "code",
   "execution_count": 6,
   "id": "60247986",
   "metadata": {},
   "outputs": [
    {
     "name": "stdout",
     "output_type": "stream",
     "text": [
      "0.36156\n",
      "0.145\n"
     ]
    }
   ],
   "source": [
    "print(norm.data.muG)\n",
    "print(norm.data.rhoD)"
   ]
  },
  {
   "cell_type": "markdown",
   "id": "8c040e02",
   "metadata": {},
   "source": [
    "The total rate is called with the parameters as given above. If you want to use a default input for the HQE parameters there is a vector default in data."
   ]
  },
  {
   "cell_type": "code",
   "execution_count": 7,
   "id": "5068a4b2",
   "metadata": {},
   "outputs": [
    {
     "data": {
      "text/plain": [
       "0.10287512718674202"
      ]
     },
     "execution_count": 7,
     "metadata": {},
     "output_type": "execute_result"
    }
   ],
   "source": [
    "norm.total_rate(0.042, 4.546, 1.093, 0.36156, -0.132, 0.019, -0.8, -0.072, -0.006, 0.145, 0.432375)"
   ]
  },
  {
   "cell_type": "code",
   "execution_count": 8,
   "id": "d355fa05",
   "metadata": {},
   "outputs": [
    {
     "data": {
      "text/plain": [
       "0.10287512718674202"
      ]
     },
     "execution_count": 8,
     "metadata": {},
     "output_type": "execute_result"
    }
   ],
   "source": [
    "norm.total_rate(0.042, *norm.data.default)"
   ]
  },
  {
   "cell_type": "markdown",
   "id": "97686148",
   "metadata": {},
   "source": [
    "The same can be done for the first - fourth moment. Note that the first input is not Vcb here, but a numpy array of the cuts of interest. Again see the doc."
   ]
  },
  {
   "cell_type": "code",
   "execution_count": 9,
   "id": "a1f2fdd0",
   "metadata": {},
   "outputs": [
    {
     "name": "stdout",
     "output_type": "stream",
     "text": [
      "\n",
      "        First normalized q2moment up to a_s and 1/mb^4 for the bottom quark in the kinetic\n",
      "        and the charm quark in the MS-bar scheme.\n",
      "\n",
      "        Parameters\n",
      "        ----------\n",
      "        q_cut : numpy.array\n",
      "            Cuts on q2\n",
      "        mbkin : float\n",
      "            Mass of the bottom quark in the kinetic scheme\n",
      "        mcMS : float\n",
      "            Mass of the charm quark in the MS-bar scheme\n",
      "        muG : float\n",
      "            HQE parameter muG\n",
      "        sB : float\n",
      "            HQE parameter sB\n",
      "        rE : float\n",
      "            HQE parameter rE\n",
      "        sqB : float\n",
      "            HQE parameter sqB\n",
      "        sE : float\n",
      "            HQE parameter sE\n",
      "        rG : float\n",
      "            HQE parameter rG\n",
      "        rhoD : float\n",
      "            HQE parameter rhoD\n",
      "        mupi : float\n",
      "            HQE parameter mupi\n",
      "\n",
      "        Return\n",
      "        ------\n",
      "        numpy.array\n",
      "            Array for the first q2moment at given cuts.\n",
      "        \n"
     ]
    }
   ],
   "source": [
    "print(norm.q2_moment_1.__doc__)"
   ]
  },
  {
   "cell_type": "code",
   "execution_count": 10,
   "id": "9347260d",
   "metadata": {},
   "outputs": [
    {
     "data": {
      "text/plain": [
       "array([4.85077151, 5.42853611, 6.01606593])"
      ]
     },
     "execution_count": 10,
     "metadata": {},
     "output_type": "execute_result"
    }
   ],
   "source": [
    "norm.q2_moment_1(np.array([1,2,3]), *norm.data.default)"
   ]
  },
  {
   "cell_type": "code",
   "execution_count": 11,
   "id": "07117d46",
   "metadata": {},
   "outputs": [
    {
     "data": {
      "text/plain": [
       "array([204.52666927, 239.39988765, 284.53789033])"
      ]
     },
     "execution_count": 11,
     "metadata": {},
     "output_type": "execute_result"
    }
   ],
   "source": [
    "norm.q2_moment_3(np.array([1,2,3]), *norm.data.default)"
   ]
  },
  {
   "cell_type": "markdown",
   "id": "f03ba243",
   "metadata": {},
   "source": [
    "This can be done in the same manner for the centralized moments."
   ]
  },
  {
   "cell_type": "code",
   "execution_count": 12,
   "id": "f7630f69",
   "metadata": {},
   "outputs": [
    {
     "data": {
      "text/plain": [
       "array([4.85077151, 5.42853611, 6.01606593])"
      ]
     },
     "execution_count": 12,
     "metadata": {},
     "output_type": "execute_result"
    }
   ],
   "source": [
    "cent.q2_moment_1(np.array([1,2,3]), *norm.data.default)"
   ]
  },
  {
   "cell_type": "code",
   "execution_count": 13,
   "id": "fbd36532",
   "metadata": {},
   "outputs": [
    {
     "data": {
      "text/plain": [
       "array([4.11278855, 2.87871278, 1.85350586])"
      ]
     },
     "execution_count": 13,
     "metadata": {},
     "output_type": "execute_result"
    }
   ],
   "source": [
    "cent.q2_moment_3(np.array([1,2,3]), *norm.data.default)"
   ]
  },
  {
   "cell_type": "markdown",
   "id": "a3ccd73e",
   "metadata": {},
   "source": [
    "Note that you can set all perturbative corrections to zero by creating an instance and deleting api4 from it."
   ]
  },
  {
   "cell_type": "code",
   "execution_count": 14,
   "id": "c934d83c",
   "metadata": {},
   "outputs": [
    {
     "data": {
      "text/plain": [
       "array([4.81664565, 5.40001094, 5.99271937])"
      ]
     },
     "execution_count": 14,
     "metadata": {},
     "output_type": "execute_result"
    }
   ],
   "source": [
    "nopert = NormalizedMomentsMS()\n",
    "nopert.data.api4 = 0\n",
    "nopert.q2_moment_1(np.array([1,2,3]), *nopert.data.default)"
   ]
  },
  {
   "cell_type": "markdown",
   "id": "cf370a2b",
   "metadata": {},
   "source": [
    "You can also set all 1/mb contributions to zero."
   ]
  },
  {
   "cell_type": "code",
   "execution_count": 15,
   "id": "fbd0c7e1",
   "metadata": {},
   "outputs": [
    {
     "data": {
      "text/plain": [
       "array([5.22276315, 5.81068567, 6.41042204])"
      ]
     },
     "execution_count": 15,
     "metadata": {},
     "output_type": "execute_result"
    }
   ],
   "source": [
    "norm.q2_moment_1(np.array([1,2,3]), *norm.data.noHQE)"
   ]
  },
  {
   "cell_type": "markdown",
   "id": "a81f7af8",
   "metadata": {},
   "source": [
    "Finally each instance contains a method to determine the covariance matrix. It depicts the covariance between the moments and the moments of different cuts. It has the form <br> (rate, q2mom1(cut1),...,q2mom4(cut1),..., q2mom1(cutn),...q2mom4(cutn)) ^ 2 <br>\n",
    "Note that the rate is always fully decorelated from the moments."
   ]
  },
  {
   "cell_type": "code",
   "execution_count": 16,
   "id": "284b1ccf",
   "metadata": {},
   "outputs": [
    {
     "name": "stdout",
     "output_type": "stream",
     "text": [
      "\n",
      "        Covariance matrix between the total rate and the q2moments.\n",
      "\n",
      "        Parameters\n",
      "        ----------\n",
      "        cuts : numpy.array\n",
      "            Array of the cuts on q2\n",
      "        shifts : dict\n",
      "            Keys of the dictionary give as the parameters of the moments\n",
      "            and values as their shift in percent. Can also shift the scale\n",
      "            of a_s and the masses.\n",
      "            Example: {muG:0.2, mus:0.1}\n",
      "        multi : int\n",
      "            Enlarges dimension of the covariance matrix if several sets of\n",
      "            q2moments are used.\n",
      "            Example: multi=2 yields form (rate, mom1,...,mom4, mom1, ..., mom4)\n",
      "        decorr : None, 'Block' or 2d-list\n",
      "            None: no decorrelation scenario\n",
      "            'Block': Assumes no correlation between different q2 sets.\n",
      "            list: decreasing decorrelation in percent for\n",
      "                list[0]: decorrelation between the cuts\n",
      "                list[1]: decorrelation between the sets of moments\n",
      "\n",
      "        Return\n",
      "        ------\n",
      "        numpy.array\n",
      "            Matrix of size (4*cuts*multi + 1) x (4*cuts*multi + 1) with covariance\n",
      "            for different moments and rate.\n",
      "        \n"
     ]
    }
   ],
   "source": [
    "print(norm.covariance_matrix.__doc__)"
   ]
  },
  {
   "cell_type": "markdown",
   "id": "0ffc6f90",
   "metadata": {},
   "source": [
    "Provide the cuts you are interested in and the shifts for the parameters that can vary in percent (except if the scale mus changes. That shift must be provided as an absolute like mb/2). Below we vary muG by 20% and mus by mbkin/2."
   ]
  },
  {
   "cell_type": "code",
   "execution_count": 17,
   "id": "7de4aba2",
   "metadata": {
    "scrolled": true
   },
   "outputs": [
    {
     "data": {
      "text/plain": [
       "array([[8.70924151e-07, 0.00000000e+00, 0.00000000e+00, 0.00000000e+00,\n",
       "        0.00000000e+00, 0.00000000e+00, 0.00000000e+00, 0.00000000e+00,\n",
       "        0.00000000e+00],\n",
       "       [0.00000000e+00, 2.17323730e-03, 2.21317609e-03, 3.10976192e-02,\n",
       "        3.35883729e-02, 3.76705754e-01, 4.18715843e-01, 4.39018749e+00,\n",
       "        4.95542687e+00],\n",
       "       [0.00000000e+00, 2.21317609e-03, 2.25750777e-03, 3.17010844e-02,\n",
       "        3.42763757e-02, 3.84093277e-01, 4.27242689e-01, 4.47459861e+00,\n",
       "        5.05350157e+00],\n",
       "       [0.00000000e+00, 3.10976192e-02, 3.17010844e-02, 4.45266090e-01,\n",
       "        4.81245832e-01, 5.39447455e+00, 5.99882057e+00, 6.28533313e+01,\n",
       "        7.09701614e+01],\n",
       "       [0.00000000e+00, 3.35883729e-02, 3.42763757e-02, 4.81245832e-01,\n",
       "        5.20490906e-01, 5.83114016e+00, 6.48752513e+00, 6.79244572e+01,\n",
       "        7.67238150e+01],\n",
       "       [0.00000000e+00, 3.76705754e-01, 3.84093277e-01, 5.39447455e+00,\n",
       "        5.83114016e+00, 6.53566126e+01, 7.26852152e+01, 7.61462280e+02,\n",
       "        8.59855996e+02],\n",
       "       [0.00000000e+00, 4.18715843e-01, 4.27242689e-01, 5.99882057e+00,\n",
       "        6.48752513e+00, 7.26852152e+01, 8.08627673e+01, 8.46701894e+02,\n",
       "        9.56350881e+02],\n",
       "       [0.00000000e+00, 4.39018749e+00, 4.47459861e+00, 6.28533313e+01,\n",
       "        6.79244572e+01, 7.61462280e+02, 8.46701894e+02, 8.87248289e+03,\n",
       "        1.00176707e+04],\n",
       "       [0.00000000e+00, 4.95542687e+00, 5.05350157e+00, 7.09701614e+01,\n",
       "        7.67238150e+01, 8.59855996e+02, 9.56350881e+02, 1.00176707e+04,\n",
       "        1.13128050e+04]])"
      ]
     },
     "execution_count": 17,
     "metadata": {},
     "output_type": "execute_result"
    }
   ],
   "source": [
    "cuts = np.array([1,2])\n",
    "shift = {'muG':0.2, 'mus':norm.data.mbkin / 2}\n",
    "norm.covariance_matrix(cuts, shift)"
   ]
  },
  {
   "cell_type": "markdown",
   "id": "acc10e14",
   "metadata": {},
   "source": [
    "You can also choose a decorrelation scenario or have the form of the matrix multiplied for several datasets, as explained in the doc."
   ]
  },
  {
   "cell_type": "code",
   "execution_count": 18,
   "id": "6c3bded8",
   "metadata": {},
   "outputs": [
    {
     "data": {
      "text/plain": [
       "array([[8.70924151e-07, 0.00000000e+00, 0.00000000e+00, 0.00000000e+00,\n",
       "        0.00000000e+00, 0.00000000e+00, 0.00000000e+00, 0.00000000e+00,\n",
       "        0.00000000e+00],\n",
       "       [0.00000000e+00, 2.17323730e-03, 2.14678080e-03, 2.92597499e-02,\n",
       "        3.06552011e-02, 3.72938696e-01, 4.02092824e-01, 4.08942013e+00,\n",
       "        4.47745747e+00],\n",
       "       [0.00000000e+00, 2.14678080e-03, 2.25750777e-03, 3.07500519e-02,\n",
       "        3.22506419e-02, 3.50551564e-01, 4.22970262e-01, 4.29695704e+00,\n",
       "        4.70729123e+00],\n",
       "       [0.00000000e+00, 2.92597499e-02, 3.07500519e-02, 4.45266090e-01,\n",
       "        4.66808457e-01, 5.07566110e+00, 5.47496156e+00, 6.22247980e+01,\n",
       "        6.81526460e+01],\n",
       "       [0.00000000e+00, 3.06552011e-02, 3.22506419e-02, 4.66808457e-01,\n",
       "        5.20490906e-01, 5.65620596e+00, 6.10411239e+00, 6.19928181e+01,\n",
       "        7.59565769e+01],\n",
       "       [0.00000000e+00, 3.72938696e-01, 3.50551564e-01, 5.07566110e+00,\n",
       "        5.65620596e+00, 6.53566126e+01, 7.05046587e+01, 7.16459860e+02,\n",
       "        7.84767351e+02],\n",
       "       [0.00000000e+00, 4.02092824e-01, 4.22970262e-01, 5.47496156e+00,\n",
       "        6.10411239e+00, 7.05046587e+01, 8.08627673e+01, 8.21300837e+02,\n",
       "        8.99830544e+02],\n",
       "       [0.00000000e+00, 4.08942013e+00, 4.29695704e+00, 6.22247980e+01,\n",
       "        6.19928181e+01, 7.16459860e+02, 8.21300837e+02, 8.87248289e+03,\n",
       "        9.71714055e+03],\n",
       "       [0.00000000e+00, 4.47745747e+00, 4.70729123e+00, 6.81526460e+01,\n",
       "        7.59565769e+01, 7.84767351e+02, 8.99830544e+02, 9.71714055e+03,\n",
       "        1.13128050e+04]])"
      ]
     },
     "execution_count": 18,
     "metadata": {},
     "output_type": "execute_result"
    }
   ],
   "source": [
    "norm.covariance_matrix(cuts, shift, decorr=[0.97,0.99])"
   ]
  }
 ],
 "metadata": {
  "kernelspec": {
   "display_name": "Python 3 (ipykernel)",
   "language": "python",
   "name": "python3"
  },
  "language_info": {
   "codemirror_mode": {
    "name": "ipython",
    "version": 3
   },
   "file_extension": ".py",
   "mimetype": "text/x-python",
   "name": "python",
   "nbconvert_exporter": "python",
   "pygments_lexer": "ipython3",
   "version": "3.9.7"
  }
 },
 "nbformat": 4,
 "nbformat_minor": 5
}
